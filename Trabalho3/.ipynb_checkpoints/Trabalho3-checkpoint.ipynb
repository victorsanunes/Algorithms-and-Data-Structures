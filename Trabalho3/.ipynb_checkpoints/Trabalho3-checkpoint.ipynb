{
 "cells": [
  {
   "cell_type": "code",
   "execution_count": 1,
   "metadata": {
    "collapsed": true
   },
   "outputs": [],
   "source": [
    "import os\n",
    "import operator\n",
    "\n",
    "import nltk\n",
    "import networkx as nx\n",
    "import pandas as pd\n",
    "import numpy as np\n",
    "from pylab import rcParams\n",
    "import seaborn as sb\n",
    "import Graph\n",
    "\n",
    "%matplotlib inline\n",
    "# rcParams['figure.figsize'] = 5,4\n",
    "sb.set_style(\"whitegrid\")\n"
   ]
  },
  {
   "cell_type": "code",
   "execution_count": 2,
   "metadata": {
    "collapsed": true
   },
   "outputs": [],
   "source": [
    "graph = Graph.Graph()"
   ]
  },
  {
   "cell_type": "code",
   "execution_count": 3,
   "metadata": {
    "collapsed": true
   },
   "outputs": [],
   "source": [
    "def createVertex(graph, vertex):\n",
    "    for i in vertex:\n",
    "        graph.add_vertex(vertex[i]['Id'])"
   ]
  },
  {
   "cell_type": "code",
   "execution_count": 4,
   "metadata": {
    "collapsed": true
   },
   "outputs": [],
   "source": [
    "def createEdge(graph, source, dest, weight, direction):\n",
    "    graph.add_edge(source, dest, weight)\n",
    "    if direction:\n",
    "        graph.add_edge(dest, source, weight)"
   ]
  },
  {
   "cell_type": "code",
   "execution_count": 21,
   "metadata": {
    "collapsed": true
   },
   "outputs": [],
   "source": [
    "def buildGraphNodes(nodesNumber):\n",
    "    nodes = dict()\n",
    "    i = -1\n",
    "    with open(\"amazon-meta.txt\") as file:\n",
    "        for line in file:\n",
    "            if \"Id:\" in line:\n",
    "                i = i + 1\n",
    "                nodes[i] = dict()\n",
    "                s = str(line)\n",
    "                s = s.split(\":\")\n",
    "                nodes[i][s[0]] = s[1].split(\"\\n\")[0]\n",
    "\n",
    "            else:\n",
    "                # Exlcui o campo review\n",
    "                if \"reviews\" not in line:\n",
    "                    s = str(line).split(\":\")\n",
    "                    if len(s) > 1:\n",
    "                        nodes[i][s[0]] = s[1].split(\"\\n\")[0]\n",
    "                else:\n",
    "                    s = str(line).split(\":\")\n",
    "                    nodes[i][\"rating\"] = s[-1].split(\"\\n\")[0]\n",
    "                        \n",
    "            if i+1 == nodesNumber:\n",
    "                return nodes\n",
    "    return nodes\n",
    "nodes = buildGraphNodes(1000)"
   ]
  },
  {
   "cell_type": "code",
   "execution_count": 22,
   "metadata": {
    "collapsed": true
   },
   "outputs": [],
   "source": [
    "createVertex(graph, nodes)"
   ]
  },
  {
   "cell_type": "code",
   "execution_count": 23,
   "metadata": {
    "collapsed": true
   },
   "outputs": [],
   "source": [
    "def printGraph(g):\n",
    "    for v in g:\n",
    "        for w in v.get_connections():\n",
    "            vid = v.get_id()\n",
    "            wid = w.get_id()\n",
    "            print ('( %s , %s, %3d)'  % ( vid, wid, v.get_weight(w)))\n",
    "\n",
    "    for v in g:\n",
    "        print ('g.vert_dict[%s]=%s' %(v.get_id(), g.vert_dict[v.get_id()]))"
   ]
  },
  {
   "cell_type": "code",
   "execution_count": 24,
   "metadata": {
    "collapsed": true
   },
   "outputs": [],
   "source": [
    "# printGraph(graph)"
   ]
  },
  {
   "cell_type": "code",
   "execution_count": 25,
   "metadata": {
    "collapsed": true
   },
   "outputs": [],
   "source": [
    "def buildGraphEdges(real_graph):\n",
    "    similar = list()\n",
    "    #Obtem os nos similares de cada produto\n",
    "    for i in range(len(nodes)):\n",
    "        try:\n",
    "            similar = nodes[i][\"  similar\"]\n",
    "    \n",
    "            # Checa qual eh o no similar\n",
    "            for k in range(len(nodes)):\n",
    "                if nodes[k][\"ASIN\"] in similar:\n",
    "                    createEdge(real_graph, nodes[i][\"Id\"], nodes[k][\"Id\"], 1, True ) \n",
    "        except KeyError:\n",
    "            pass"
   ]
  },
  {
   "cell_type": "code",
   "execution_count": 26,
   "metadata": {
    "collapsed": true
   },
   "outputs": [],
   "source": [
    "buildGraphEdges(graph)\n",
    "# printGraph(graph)"
   ]
  },
  {
   "cell_type": "code",
   "execution_count": 27,
   "metadata": {
    "collapsed": true
   },
   "outputs": [],
   "source": [
    "def buildEdgesDictionary(graph):\n",
    "    edges = {i.get_id(): dict() for i in graph}\n",
    "    for w in graph:\n",
    "#         print(\"W: \" + repr(w.get_id()))\n",
    "        for k in w.get_connections():\n",
    "            edges[w.get_id()] = {k.get_id(): w.get_weight(k)}\n",
    "#             print(\"K: \"+repr(k.get_id()))\n",
    "    return edges\n",
    "        \n",
    "    "
   ]
  },
  {
   "cell_type": "code",
   "execution_count": 28,
   "metadata": {
    "collapsed": true
   },
   "outputs": [],
   "source": [
    "aux_graph = buildEdgesDictionary(graph)\n"
   ]
  },
  {
   "cell_type": "code",
   "execution_count": 29,
   "metadata": {
    "collapsed": true
   },
   "outputs": [],
   "source": [
    "# real_graph = dict()\n",
    "# for i in range(len(nodes)):\n",
    "#     index = nodes[i][\"Id\"]\n",
    "#     real_graph[index] = list()"
   ]
  },
  {
   "cell_type": "code",
   "execution_count": 30,
   "metadata": {
    "collapsed": true
   },
   "outputs": [],
   "source": [
    "G = nx.Graph()\n",
    "G.add_nodes_from([nodes[i][\"Id\"] for i in range(len(nodes))])"
   ]
  },
  {
   "cell_type": "code",
   "execution_count": 31,
   "metadata": {
    "collapsed": true
   },
   "outputs": [],
   "source": [
    "edges = list()\n",
    "l = list()\n",
    "for k in aux_graph:\n",
    "    e = aux_graph[k]\n",
    "    edges = [(k, i) for i in e]\n",
    "    G.add_edges_from(edges)"
   ]
  },
  {
   "cell_type": "code",
   "execution_count": 32,
   "metadata": {},
   "outputs": [
    {
     "name": "stderr",
     "output_type": "stream",
     "text": [
      "/home/victor/anaconda3/lib/python3.6/site-packages/networkx/drawing/nx_pylab.py:126: MatplotlibDeprecationWarning: pyplot.hold is deprecated.\n",
      "    Future behavior will be consistent with the long-time default:\n",
      "    plot commands add elements without first clearing the\n",
      "    Axes and/or Figure.\n",
      "  b = plt.ishold()\n",
      "/home/victor/anaconda3/lib/python3.6/site-packages/networkx/drawing/nx_pylab.py:138: MatplotlibDeprecationWarning: pyplot.hold is deprecated.\n",
      "    Future behavior will be consistent with the long-time default:\n",
      "    plot commands add elements without first clearing the\n",
      "    Axes and/or Figure.\n",
      "  plt.hold(b)\n",
      "/home/victor/anaconda3/lib/python3.6/site-packages/matplotlib/__init__.py:917: UserWarning: axes.hold is deprecated. Please remove it from your matplotlibrc and/or style files.\n",
      "  warnings.warn(self.msg_depr_set % key)\n",
      "/home/victor/anaconda3/lib/python3.6/site-packages/matplotlib/rcsetup.py:152: UserWarning: axes.hold is deprecated, will be removed in 3.0\n",
      "  warnings.warn(\"axes.hold is deprecated, will be removed in 3.0\")\n"
     ]
    },
    {
     "data": {
      "image/png": "[encoded data removed]",
      "text/plain": [
       "<matplotlib.figure.Figure at 0x7fa709e60e10>"
      ]
     },
     "metadata": {},
     "output_type": "display_data"
    }
   ],
   "source": [
    "nx.draw_circular(G, node_color=\"red\", with_labels=False)"
   ]
  },
  {
   "cell_type": "code",
   "execution_count": 33,
   "metadata": {
    "collapsed": true
   },
   "outputs": [],
   "source": [
    "G=nx.random_geometric_graph(200,0.125)\n",
    "pos=nx.get_node_attributes(G,'pos')\n",
    "\n",
    "dmin=1\n",
    "ncenter=0\n",
    "for n in pos:\n",
    "    x,y=pos[n]\n",
    "    d=(x-0.5)**2+(y-0.5)**2\n",
    "    if d<dmin:\n",
    "        ncenter=n\n",
    "        dmin=d\n",
    "\n",
    "p=nx.single_source_shortest_path_length(G,ncenter)"
   ]
  },
  {
   "cell_type": "markdown",
   "metadata": {},
   "source": [
    "## Calculando as medidas de centralidade"
   ]
  },
  {
   "cell_type": "code",
   "execution_count": null,
   "metadata": {},
   "outputs": [],
   "source": [
    "dist, path = graph.allShortestPaths()"
   ]
  },
  {
   "cell_type": "markdown",
   "metadata": {},
   "source": [
    "### Degree\n",
    "Grau dos vértices: número de arestas incidentes sobre um vértice."
   ]
  },
  {
   "cell_type": "code",
   "execution_count": 20,
   "metadata": {},
   "outputs": [
    {
     "name": "stdout",
     "output_type": "stream",
     "text": [
      "   0: 0\n",
      "   1: 0\n",
      "   2: 0\n",
      "   3: 0\n",
      "   4: 0\n",
      "   5: 0\n",
      "   6: 0\n",
      "   7: 0\n",
      "   8: 0\n",
      "   9: 0\n",
      "   10: 0\n",
      "   11: 0\n",
      "   12: 0\n",
      "   13: 0\n",
      "   14: 0\n",
      "   15: 0\n",
      "   16: 0\n",
      "   17: 0\n",
      "   18: 0\n",
      "   19: 0\n",
      "   20: 0\n",
      "   21: 0\n",
      "   22: 0\n",
      "   23: 0\n",
      "   24: 0\n",
      "   25: 0\n",
      "   26: 0\n",
      "   27: 0\n",
      "   28: 0\n",
      "   29: 0\n",
      "   30: 0\n",
      "   31: 0\n",
      "   32: 0\n",
      "   33: 0\n",
      "   34: 0\n",
      "   35: 0\n",
      "   36: 0\n",
      "   37: 0\n",
      "   38: 0\n",
      "   39: 0\n",
      "   40: 0\n",
      "   41: 0\n",
      "   42: 0\n",
      "   43: 0\n",
      "   44: 0\n",
      "   45: 0\n",
      "   46: 0\n",
      "   47: 0\n",
      "   48: 0\n",
      "   49: 0\n",
      "   50: 0\n",
      "   51: 0\n",
      "   52: 0\n",
      "   53: 0\n",
      "   54: 0\n",
      "   55: 0\n",
      "   56: 0\n",
      "   57: 0\n",
      "   58: 0\n",
      "   59: 0\n",
      "   60: 0\n",
      "   61: 0\n",
      "   62: 0\n",
      "   63: 0\n",
      "   64: 0\n",
      "   65: 0\n",
      "   66: 0\n",
      "   67: 0\n",
      "   68: 0\n",
      "   69: 0\n",
      "   70: 0\n",
      "   71: 0\n",
      "   72: 0\n",
      "   73: 0\n",
      "   74: 0\n",
      "   75: 0\n",
      "   76: 0\n",
      "   77: 0\n",
      "   78: 0\n",
      "   79: 0\n",
      "   80: 0\n",
      "   81: 0\n",
      "   82: 0\n",
      "   83: 0\n",
      "   84: 0\n",
      "   85: 0\n",
      "   86: 0\n",
      "   87: 0\n",
      "   88: 0\n",
      "   89: 0\n",
      "   90: 0\n",
      "   91: 0\n",
      "   92: 0\n",
      "   93: 0\n",
      "   94: 0\n",
      "   95: 0\n",
      "   96: 0\n",
      "   97: 0\n",
      "   98: 0\n",
      "   99: 0\n"
     ]
    }
   ],
   "source": [
    "for v in graph:\n",
    "    print(str(v.get_id()) + \": \" + str(v.degree()))"
   ]
  },
  {
   "cell_type": "markdown",
   "metadata": {},
   "source": [
    "### Closeness\n",
    "Comprimento médio do caminho mais curto entre um vértice e todos os outros vértices do grafo."
   ]
  },
  {
   "cell_type": "code",
   "execution_count": 21,
   "metadata": {},
   "outputs": [
    {
     "name": "stdout",
     "output_type": "stream",
     "text": [
      "   0: 990.0\n",
      "   1: 990.0\n",
      "   2: 990.0\n",
      "   3: 990.0\n",
      "   4: 990.0\n",
      "   5: 990.0\n",
      "   6: 990.0\n",
      "   7: 990.0\n",
      "   8: 990.0\n",
      "   9: 990.0\n",
      "   10: 990.0\n",
      "   11: 990.0\n",
      "   12: 990.0\n",
      "   13: 990.0\n",
      "   14: 990.0\n",
      "   15: 990.0\n",
      "   16: 990.0\n",
      "   17: 990.0\n",
      "   18: 990.0\n",
      "   19: 990.0\n",
      "   20: 990.0\n",
      "   21: 990.0\n",
      "   22: 990.0\n",
      "   23: 990.0\n",
      "   24: 990.0\n",
      "   25: 990.0\n",
      "   26: 990.0\n",
      "   27: 990.0\n",
      "   28: 990.0\n",
      "   29: 990.0\n",
      "   30: 990.0\n",
      "   31: 990.0\n",
      "   32: 990.0\n",
      "   33: 990.0\n",
      "   34: 990.0\n",
      "   35: 990.0\n",
      "   36: 990.0\n",
      "   37: 990.0\n",
      "   38: 990.0\n",
      "   39: 990.0\n",
      "   40: 990.0\n",
      "   41: 990.0\n",
      "   42: 990.0\n",
      "   43: 990.0\n",
      "   44: 990.0\n",
      "   45: 990.0\n",
      "   46: 990.0\n",
      "   47: 990.0\n",
      "   48: 990.0\n",
      "   49: 990.0\n",
      "   50: 990.0\n",
      "   51: 990.0\n",
      "   52: 990.0\n",
      "   53: 990.0\n",
      "   54: 990.0\n",
      "   55: 990.0\n",
      "   56: 990.0\n",
      "   57: 990.0\n",
      "   58: 990.0\n",
      "   59: 990.0\n",
      "   60: 990.0\n",
      "   61: 990.0\n",
      "   62: 990.0\n",
      "   63: 990.0\n",
      "   64: 990.0\n",
      "   65: 990.0\n",
      "   66: 990.0\n",
      "   67: 990.0\n",
      "   68: 990.0\n",
      "   69: 990.0\n",
      "   70: 990.0\n",
      "   71: 990.0\n",
      "   72: 990.0\n",
      "   73: 990.0\n",
      "   74: 990.0\n",
      "   75: 990.0\n",
      "   76: 990.0\n",
      "   77: 990.0\n",
      "   78: 990.0\n",
      "   79: 990.0\n",
      "   80: 990.0\n",
      "   81: 990.0\n",
      "   82: 990.0\n",
      "   83: 990.0\n",
      "   84: 990.0\n",
      "   85: 990.0\n",
      "   86: 990.0\n",
      "   87: 990.0\n",
      "   88: 990.0\n",
      "   89: 990.0\n",
      "   90: 990.0\n",
      "   91: 990.0\n",
      "   92: 990.0\n",
      "   93: 990.0\n",
      "   94: 990.0\n",
      "   95: 990.0\n",
      "   96: 990.0\n",
      "   97: 990.0\n",
      "   98: 990.0\n",
      "   99: 990.0\n"
     ]
    }
   ],
   "source": [
    "for v in graph:\n",
    "    print(str(v.get_id()) + \": \" + str(v.closeness(dist[v.get_id()])))"
   ]
  },
  {
   "cell_type": "markdown",
   "metadata": {},
   "source": [
    "### Betweenness\n",
    "Quantifica o número de vezes que um vértice age como uma ponte ao longo do\n",
    "caminho mais curto entre dois outros vértices."
   ]
  },
  {
   "cell_type": "code",
   "execution_count": 22,
   "metadata": {},
   "outputs": [
    {
     "data": {
      "text/plain": [
       "{'   0': 99,\n",
       " '   1': 99,\n",
       " '   10': 99,\n",
       " '   11': 99,\n",
       " '   12': 99,\n",
       " '   13': 99,\n",
       " '   14': 99,\n",
       " '   15': 99,\n",
       " '   16': 99,\n",
       " '   17': 99,\n",
       " '   18': 99,\n",
       " '   19': 99,\n",
       " '   2': 99,\n",
       " '   20': 99,\n",
       " '   21': 99,\n",
       " '   22': 99,\n",
       " '   23': 99,\n",
       " '   24': 99,\n",
       " '   25': 99,\n",
       " '   26': 99,\n",
       " '   27': 99,\n",
       " '   28': 99,\n",
       " '   29': 99,\n",
       " '   3': 99,\n",
       " '   30': 99,\n",
       " '   31': 99,\n",
       " '   32': 99,\n",
       " '   33': 99,\n",
       " '   34': 99,\n",
       " '   35': 99,\n",
       " '   36': 99,\n",
       " '   37': 99,\n",
       " '   38': 99,\n",
       " '   39': 99,\n",
       " '   4': 99,\n",
       " '   40': 99,\n",
       " '   41': 99,\n",
       " '   42': 99,\n",
       " '   43': 99,\n",
       " '   44': 99,\n",
       " '   45': 99,\n",
       " '   46': 99,\n",
       " '   47': 99,\n",
       " '   48': 99,\n",
       " '   49': 99,\n",
       " '   5': 99,\n",
       " '   50': 99,\n",
       " '   51': 99,\n",
       " '   52': 99,\n",
       " '   53': 99,\n",
       " '   54': 99,\n",
       " '   55': 99,\n",
       " '   56': 99,\n",
       " '   57': 99,\n",
       " '   58': 99,\n",
       " '   59': 99,\n",
       " '   6': 99,\n",
       " '   60': 99,\n",
       " '   61': 99,\n",
       " '   62': 99,\n",
       " '   63': 99,\n",
       " '   64': 99,\n",
       " '   65': 99,\n",
       " '   66': 99,\n",
       " '   67': 99,\n",
       " '   68': 99,\n",
       " '   69': 99,\n",
       " '   7': 99,\n",
       " '   70': 99,\n",
       " '   71': 99,\n",
       " '   72': 99,\n",
       " '   73': 99,\n",
       " '   74': 99,\n",
       " '   75': 99,\n",
       " '   76': 99,\n",
       " '   77': 99,\n",
       " '   78': 99,\n",
       " '   79': 99,\n",
       " '   8': 99,\n",
       " '   80': 99,\n",
       " '   81': 99,\n",
       " '   82': 99,\n",
       " '   83': 99,\n",
       " '   84': 99,\n",
       " '   85': 99,\n",
       " '   86': 99,\n",
       " '   87': 99,\n",
       " '   88': 99,\n",
       " '   89': 99,\n",
       " '   9': 99,\n",
       " '   90': 99,\n",
       " '   91': 99,\n",
       " '   92': 99,\n",
       " '   93': 99,\n",
       " '   94': 99,\n",
       " '   95': 99,\n",
       " '   96': 99,\n",
       " '   97': 99,\n",
       " '   98': 99,\n",
       " '   99': 99}"
      ]
     },
     "execution_count": 22,
     "metadata": {},
     "output_type": "execute_result"
    }
   ],
   "source": [
    "graph.betweeness()"
   ]
  },
  {
   "cell_type": "markdown",
   "metadata": {},
   "source": [
    "### Coeficiente de clustering\n",
    "Mede o grau com que os nós de um grafo tendem a agrupar-se."
   ]
  },
  {
   "cell_type": "code",
   "execution_count": 23,
   "metadata": {},
   "outputs": [
    {
     "data": {
      "text/plain": [
       "{'   0': 0,\n",
       " '   1': 0,\n",
       " '   10': 0,\n",
       " '   11': 0,\n",
       " '   12': 0,\n",
       " '   13': 0,\n",
       " '   14': 0,\n",
       " '   15': 0,\n",
       " '   16': 0,\n",
       " '   17': 0,\n",
       " '   18': 0,\n",
       " '   19': 0,\n",
       " '   2': 0,\n",
       " '   20': 0,\n",
       " '   21': 0,\n",
       " '   22': 0,\n",
       " '   23': 0,\n",
       " '   24': 0,\n",
       " '   25': 0,\n",
       " '   26': 0,\n",
       " '   27': 0,\n",
       " '   28': 0,\n",
       " '   29': 0,\n",
       " '   3': 0,\n",
       " '   30': 0,\n",
       " '   31': 0,\n",
       " '   32': 0,\n",
       " '   33': 0,\n",
       " '   34': 0,\n",
       " '   35': 0,\n",
       " '   36': 0,\n",
       " '   37': 0,\n",
       " '   38': 0,\n",
       " '   39': 0,\n",
       " '   4': 0,\n",
       " '   40': 0,\n",
       " '   41': 0,\n",
       " '   42': 0,\n",
       " '   43': 0,\n",
       " '   44': 0,\n",
       " '   45': 0,\n",
       " '   46': 0,\n",
       " '   47': 0,\n",
       " '   48': 0,\n",
       " '   49': 0,\n",
       " '   5': 0,\n",
       " '   50': 0,\n",
       " '   51': 0,\n",
       " '   52': 0,\n",
       " '   53': 0,\n",
       " '   54': 0,\n",
       " '   55': 0,\n",
       " '   56': 0,\n",
       " '   57': 0,\n",
       " '   58': 0,\n",
       " '   59': 0,\n",
       " '   6': 0,\n",
       " '   60': 0,\n",
       " '   61': 0,\n",
       " '   62': 0,\n",
       " '   63': 0,\n",
       " '   64': 0,\n",
       " '   65': 0,\n",
       " '   66': 0,\n",
       " '   67': 0,\n",
       " '   68': 0,\n",
       " '   69': 0,\n",
       " '   7': 0,\n",
       " '   70': 0,\n",
       " '   71': 0,\n",
       " '   72': 0,\n",
       " '   73': 0,\n",
       " '   74': 0,\n",
       " '   75': 0,\n",
       " '   76': 0,\n",
       " '   77': 0,\n",
       " '   78': 0,\n",
       " '   79': 0,\n",
       " '   8': 0,\n",
       " '   80': 0,\n",
       " '   81': 0,\n",
       " '   82': 0,\n",
       " '   83': 0,\n",
       " '   84': 0,\n",
       " '   85': 0,\n",
       " '   86': 0,\n",
       " '   87': 0,\n",
       " '   88': 0,\n",
       " '   89': 0,\n",
       " '   9': 0,\n",
       " '   90': 0,\n",
       " '   91': 0,\n",
       " '   92': 0,\n",
       " '   93': 0,\n",
       " '   94': 0,\n",
       " '   95': 0,\n",
       " '   96': 0,\n",
       " '   97': 0,\n",
       " '   98': 0,\n",
       " '   99': 0}"
      ]
     },
     "execution_count": 23,
     "metadata": {},
     "output_type": "execute_result"
    }
   ],
   "source": [
    "graph.clustering()"
   ]
  },
  {
   "cell_type": "code",
   "execution_count": null,
   "metadata": {
    "collapsed": true
   },
   "outputs": [],
   "source": []
  }
 ],
 "metadata": {
  "kernelspec": {
   "display_name": "Python 3",
   "language": "python",
   "name": "python3"
  },
  "language_info": {
   "codemirror_mode": {
    "name": "ipython",
    "version": 3
   },
   "file_extension": ".py",
   "mimetype": "text/x-python",
   "name": "python",
   "nbconvert_exporter": "python",
   "pygments_lexer": "ipython3",
   "version": "3.6.2"
  }
 },
 "nbformat": 4,
 "nbformat_minor": 2
}
