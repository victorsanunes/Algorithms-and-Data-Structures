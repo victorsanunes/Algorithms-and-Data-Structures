{
 "cells": [
  {
   "cell_type": "code",
   "execution_count": 20,
   "metadata": {
    "collapsed": true
   },
   "outputs": [],
   "source": [
    "import os\n",
    "import operator\n",
    "\n",
    "import nltk\n",
    "import networkx as nx\n",
    "import pandas as pd\n",
    "import numpy as np\n",
    "from pylab import rcParams\n",
    "import seaborn as sb\n",
    "import Graph\n",
    "\n",
    "%matplotlib inline\n",
    "# rcParams['figure.figsize'] = 5,4\n",
    "sb.set_style(\"whitegrid\")\n"
   ]
  },
  {
   "cell_type": "code",
   "execution_count": 21,
   "metadata": {
    "collapsed": true
   },
   "outputs": [],
   "source": [
    "G = nx.Graph()\n"
   ]
  },
  {
   "cell_type": "code",
   "execution_count": 22,
   "metadata": {
    "collapsed": true
   },
   "outputs": [],
   "source": [
    "G.add_node(\"a\")\n",
    "G.add_node(\"b\")\n",
    "G.add_node(\"c\")\n",
    "G.add_node(\"d\")\n",
    "G.add_node(\"e\")\n",
    "G.add_node(\"f\")"
   ]
  },
  {
   "cell_type": "code",
   "execution_count": 23,
   "metadata": {
    "collapsed": true
   },
   "outputs": [],
   "source": [
    "a = \"a\"\n",
    "b = \"b\"\n",
    "c = \"c\"\n",
    "d = \"d\"\n",
    "e = \"e\"\n",
    "f = \"f\""
   ]
  },
  {
   "cell_type": "code",
   "execution_count": 24,
   "metadata": {},
   "outputs": [],
   "source": [
    "G.add_edge( a , b,   weight=7)\n",
    "G.add_edge( a , c,   weight=9)\n",
    "G.add_edge( a , f,  weight=14)\n",
    "G.add_edge( b , a,   weight=7)\n",
    "G.add_edge( b , c,  weight=10)\n",
    "G.add_edge( b , d,  weight=15)\n",
    "G.add_edge( c , a,   weight=9)\n",
    "G.add_edge( c , b, weight= 10)\n",
    "G.add_edge( c , d,  weight=11)\n",
    "G.add_edge( c , f,  weight= 2)\n",
    "G.add_edge( d , b,  weight=15)\n",
    "G.add_edge( d , c,  weight=11)\n",
    "G.add_edge( d , e,  weight= 6)\n",
    "G.add_edge( e , d,   weight=6)\n",
    "G.add_edge( e , f,   weight=9)\n",
    "G.add_edge( f , a,  weight=14)\n",
    "G.add_edge( f , c,   weight=2)\n",
    "G.add_edge( f , e,  weight= 9)"
   ]
  },
  {
   "cell_type": "code",
   "execution_count": 30,
   "metadata": {},
   "outputs": [
    {
     "name": "stderr",
     "output_type": "stream",
     "text": [
      "/home/victor/anaconda3/lib/python3.6/site-packages/networkx/drawing/nx_pylab.py:126: MatplotlibDeprecationWarning: pyplot.hold is deprecated.\n",
      "    Future behavior will be consistent with the long-time default:\n",
      "    plot commands add elements without first clearing the\n",
      "    Axes and/or Figure.\n",
      "  b = plt.ishold()\n",
      "/home/victor/anaconda3/lib/python3.6/site-packages/networkx/drawing/nx_pylab.py:138: MatplotlibDeprecationWarning: pyplot.hold is deprecated.\n",
      "    Future behavior will be consistent with the long-time default:\n",
      "    plot commands add elements without first clearing the\n",
      "    Axes and/or Figure.\n",
      "  plt.hold(b)\n",
      "/home/victor/anaconda3/lib/python3.6/site-packages/matplotlib/__init__.py:917: UserWarning: axes.hold is deprecated. Please remove it from your matplotlibrc and/or style files.\n",
      "  warnings.warn(self.msg_depr_set % key)\n",
      "/home/victor/anaconda3/lib/python3.6/site-packages/matplotlib/rcsetup.py:152: UserWarning: axes.hold is deprecated, will be removed in 3.0\n",
      "  warnings.warn(\"axes.hold is deprecated, will be removed in 3.0\")\n"
     ]
    },
    {
     "data": {
      "image/png": "[encoded data removed]",
      "text/plain": [
       "<matplotlib.figure.Figure at 0x7fcf59b94668>"
      ]
     },
     "metadata": {},
     "output_type": "display_data"
    }
   ],
   "source": [
    "nx.draw_circular(G, node_color=\"yellow\", with_labels=True)"
   ]
  },
  {
   "cell_type": "code",
   "execution_count": 26,
   "metadata": {},
   "outputs": [
    {
     "data": {
      "text/plain": [
       "{'a': 0.05,\n",
       " 'b': 0.05,\n",
       " 'c': 0.15000000000000002,\n",
       " 'd': 0.15000000000000002,\n",
       " 'e': 0.05,\n",
       " 'f': 0.15000000000000002}"
      ]
     },
     "execution_count": 26,
     "metadata": {},
     "output_type": "execute_result"
    }
   ],
   "source": [
    "nx.betweenness_centrality(G)"
   ]
  },
  {
   "cell_type": "code",
   "execution_count": 27,
   "metadata": {},
   "outputs": [
    {
     "data": {
      "text/plain": [
       "{'a': 0.7142857142857143,\n",
       " 'b': 0.7142857142857143,\n",
       " 'c': 0.8333333333333334,\n",
       " 'd': 0.7142857142857143,\n",
       " 'e': 0.625,\n",
       " 'f': 0.7142857142857143}"
      ]
     },
     "execution_count": 27,
     "metadata": {},
     "output_type": "execute_result"
    }
   ],
   "source": [
    "nx.closeness_centrality(G)"
   ]
  },
  {
   "cell_type": "code",
   "execution_count": 28,
   "metadata": {},
   "outputs": [
    {
     "data": {
      "text/plain": [
       "{'a': 3, 'b': 3, 'c': 4, 'd': 3, 'e': 2, 'f': 3}"
      ]
     },
     "execution_count": 28,
     "metadata": {},
     "output_type": "execute_result"
    }
   ],
   "source": [
    "nx.degree(G)"
   ]
  },
  {
   "cell_type": "code",
   "execution_count": 29,
   "metadata": {},
   "outputs": [
    {
     "data": {
      "text/plain": [
       "{'a': 0.6666666666666666,\n",
       " 'b': 0.6666666666666666,\n",
       " 'c': 0.5,\n",
       " 'd': 0.3333333333333333,\n",
       " 'e': 0.0,\n",
       " 'f': 0.3333333333333333}"
      ]
     },
     "execution_count": 29,
     "metadata": {},
     "output_type": "execute_result"
    }
   ],
   "source": [
    "nx.clustering(G)"
   ]
  },
  {
   "cell_type": "code",
   "execution_count": null,
   "metadata": {
    "collapsed": true
   },
   "outputs": [],
   "source": []
  }
 ],
 "metadata": {
  "kernelspec": {
   "display_name": "Python 3",
   "language": "python",
   "name": "python3"
  },
  "language_info": {
   "codemirror_mode": {
    "name": "ipython",
    "version": 3
   },
   "file_extension": ".py",
   "mimetype": "text/x-python",
   "name": "python",
   "nbconvert_exporter": "python",
   "pygments_lexer": "ipython3",
   "version": "3.6.2"
  }
 },
 "nbformat": 4,
 "nbformat_minor": 2
}
